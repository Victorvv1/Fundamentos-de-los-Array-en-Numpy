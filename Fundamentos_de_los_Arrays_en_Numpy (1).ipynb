{
  "nbformat": 4,
  "nbformat_minor": 0,
  "metadata": {
    "colab": {
      "provenance": [],
      "toc_visible": true
    },
    "kernelspec": {
      "name": "python3",
      "display_name": "Python 3"
    },
    "language_info": {
      "name": "python"
    }
  },
  "cells": [
    {
      "cell_type": "markdown",
      "source": [
        "# Los Fundamentos de los Arrays en Numpy"
      ],
      "metadata": {
        "id": "Qh6rB5AZiDnq"
      }
    },
    {
      "cell_type": "markdown",
      "source": [
        "## Atributos de Numpy Array"
      ],
      "metadata": {
        "id": "o3ywbKOfiT-V"
      }
    },
    {
      "cell_type": "code",
      "source": [
        "import numpy as np\n",
        "rng = np.random.default_rng(seed=1701)"
      ],
      "metadata": {
        "id": "SI1umoVPiKs0"
      },
      "execution_count": null,
      "outputs": []
    },
    {
      "cell_type": "code",
      "source": [
        "x1 = rng.integers(10, size=6)\n",
        "x2 = rng.integers(10, size=(3,4))\n",
        "x3 = rng.integers(10, size=(3, 4, 5))"
      ],
      "metadata": {
        "id": "VSwSq2sAizcq"
      },
      "execution_count": null,
      "outputs": []
    },
    {
      "cell_type": "code",
      "source": [
        "print(x1)"
      ],
      "metadata": {
        "colab": {
          "base_uri": "https://localhost:8080/"
        },
        "id": "AQ3oRTODi4KC",
        "outputId": "8fa44fa0-3af3-453a-e769-17644751f353"
      },
      "execution_count": null,
      "outputs": [
        {
          "output_type": "stream",
          "name": "stdout",
          "text": [
            "[9 4 0 3 8 6]\n"
          ]
        }
      ]
    },
    {
      "cell_type": "code",
      "source": [
        "print(x2)"
      ],
      "metadata": {
        "colab": {
          "base_uri": "https://localhost:8080/"
        },
        "id": "RNPRKSNwi5zs",
        "outputId": "b021c8f0-a487-4d43-cf6e-835e231c9fee"
      },
      "execution_count": null,
      "outputs": [
        {
          "output_type": "stream",
          "name": "stdout",
          "text": [
            "[[2 3 0 0]\n",
            " [6 9 4 3]\n",
            " [5 5 0 8]]\n"
          ]
        }
      ]
    },
    {
      "cell_type": "code",
      "source": [
        "print(x3)"
      ],
      "metadata": {
        "colab": {
          "base_uri": "https://localhost:8080/"
        },
        "id": "dnveHA6wjDSq",
        "outputId": "2bb617a8-2327-4b58-8031-d616633dbffc"
      },
      "execution_count": null,
      "outputs": [
        {
          "output_type": "stream",
          "name": "stdout",
          "text": [
            "[[[4 3 9 9 2]\n",
            "  [2 4 0 0 3]\n",
            "  [0 0 2 3 2]\n",
            "  [7 4 7 9 3]]\n",
            "\n",
            " [[6 6 5 0 2]\n",
            "  [5 6 4 8 2]\n",
            "  [5 6 2 7 3]\n",
            "  [8 9 2 7 2]]\n",
            "\n",
            " [[5 3 6 8 2]\n",
            "  [0 6 5 8 4]\n",
            "  [3 2 4 3 9]\n",
            "  [2 3 6 1 3]]]\n"
          ]
        }
      ]
    },
    {
      "cell_type": "code",
      "source": [
        "print(\"x3 ndim: \", x3.ndim)\n",
        "print(\"x3 shape: \", x3.shape)\n",
        "print(\"x3 size:\", x3.size)\n",
        "print(\"dtype: \", x3.dtype)"
      ],
      "metadata": {
        "colab": {
          "base_uri": "https://localhost:8080/"
        },
        "id": "0qw4o-SUjLI4",
        "outputId": "4a086be2-2b14-41cc-c4d1-bb6f1700b339"
      },
      "execution_count": null,
      "outputs": [
        {
          "output_type": "stream",
          "name": "stdout",
          "text": [
            "x3 ndim:  3\n",
            "x3 shape:  (3, 4, 5)\n",
            "x3 size: 60\n",
            "dtype:  int64\n"
          ]
        }
      ]
    },
    {
      "cell_type": "markdown",
      "source": [
        "## Indexación del Array"
      ],
      "metadata": {
        "id": "yxkmk9bGjq5o"
      }
    },
    {
      "cell_type": "code",
      "source": [
        "x1"
      ],
      "metadata": {
        "colab": {
          "base_uri": "https://localhost:8080/"
        },
        "id": "kmOQX4McjiNN",
        "outputId": "fa940001-8677-4c3e-b79f-04578c79caa1"
      },
      "execution_count": null,
      "outputs": [
        {
          "output_type": "execute_result",
          "data": {
            "text/plain": [
              "array([3, 1, 2, 5, 6, 2])"
            ]
          },
          "metadata": {},
          "execution_count": 11
        }
      ]
    },
    {
      "cell_type": "code",
      "source": [
        "x1[0]"
      ],
      "metadata": {
        "colab": {
          "base_uri": "https://localhost:8080/"
        },
        "id": "KNpuCZ-AjvVp",
        "outputId": "81168d20-c7a9-4f82-f59c-48708b4607e1"
      },
      "execution_count": null,
      "outputs": [
        {
          "output_type": "execute_result",
          "data": {
            "text/plain": [
              "3"
            ]
          },
          "metadata": {},
          "execution_count": 12
        }
      ]
    },
    {
      "cell_type": "code",
      "source": [
        "x1[4]"
      ],
      "metadata": {
        "colab": {
          "base_uri": "https://localhost:8080/"
        },
        "id": "orQH1rIqjxIW",
        "outputId": "5e87bd1d-edde-4a58-b604-3dbc9d27210b"
      },
      "execution_count": null,
      "outputs": [
        {
          "output_type": "execute_result",
          "data": {
            "text/plain": [
              "6"
            ]
          },
          "metadata": {},
          "execution_count": 13
        }
      ]
    },
    {
      "cell_type": "code",
      "source": [
        "x1[-1]"
      ],
      "metadata": {
        "colab": {
          "base_uri": "https://localhost:8080/"
        },
        "id": "Tb1ECft_j0bt",
        "outputId": "b25e115b-3707-42b6-85ca-e268cf3c9ef3"
      },
      "execution_count": null,
      "outputs": [
        {
          "output_type": "execute_result",
          "data": {
            "text/plain": [
              "2"
            ]
          },
          "metadata": {},
          "execution_count": 14
        }
      ]
    },
    {
      "cell_type": "code",
      "source": [
        "x1[-2]"
      ],
      "metadata": {
        "colab": {
          "base_uri": "https://localhost:8080/"
        },
        "id": "N3t1Dpy5j3St",
        "outputId": "9b816c10-bbb5-4417-d203-9347e9ba6730"
      },
      "execution_count": null,
      "outputs": [
        {
          "output_type": "execute_result",
          "data": {
            "text/plain": [
              "6"
            ]
          },
          "metadata": {},
          "execution_count": 15
        }
      ]
    },
    {
      "cell_type": "code",
      "source": [
        "x2"
      ],
      "metadata": {
        "colab": {
          "base_uri": "https://localhost:8080/"
        },
        "id": "Zw4WKdP3j6Fe",
        "outputId": "7a7eea25-709d-4663-87bc-de7fbb380e29"
      },
      "execution_count": null,
      "outputs": [
        {
          "output_type": "execute_result",
          "data": {
            "text/plain": [
              "array([[5, 2, 7, 9],\n",
              "       [3, 5, 6, 0],\n",
              "       [2, 0, 2, 9]])"
            ]
          },
          "metadata": {},
          "execution_count": 16
        }
      ]
    },
    {
      "cell_type": "code",
      "source": [
        "x2[0,0]"
      ],
      "metadata": {
        "colab": {
          "base_uri": "https://localhost:8080/"
        },
        "id": "iT_tNfl7j7_i",
        "outputId": "d326707f-e35e-4238-f759-2c19e413c363"
      },
      "execution_count": null,
      "outputs": [
        {
          "output_type": "execute_result",
          "data": {
            "text/plain": [
              "5"
            ]
          },
          "metadata": {},
          "execution_count": 17
        }
      ]
    },
    {
      "cell_type": "code",
      "source": [
        "x2[2, 0]"
      ],
      "metadata": {
        "colab": {
          "base_uri": "https://localhost:8080/"
        },
        "id": "x5m6usMxj-BL",
        "outputId": "fabec732-3bf4-46df-80e5-07b8f7236610"
      },
      "execution_count": null,
      "outputs": [
        {
          "output_type": "execute_result",
          "data": {
            "text/plain": [
              "2"
            ]
          },
          "metadata": {},
          "execution_count": 18
        }
      ]
    },
    {
      "cell_type": "code",
      "source": [
        "x2[2, -1]"
      ],
      "metadata": {
        "colab": {
          "base_uri": "https://localhost:8080/"
        },
        "id": "2U9pUrygkACg",
        "outputId": "64e79cfd-0d8a-4fa4-9fbf-94ca6c439e8b"
      },
      "execution_count": null,
      "outputs": [
        {
          "output_type": "execute_result",
          "data": {
            "text/plain": [
              "9"
            ]
          },
          "metadata": {},
          "execution_count": 19
        }
      ]
    },
    {
      "cell_type": "code",
      "source": [
        "x2[0,0] = 12\n",
        "x2"
      ],
      "metadata": {
        "colab": {
          "base_uri": "https://localhost:8080/"
        },
        "id": "ue6A5dujkEH-",
        "outputId": "47d984e4-e399-4fdb-bdae-ef400f900d87"
      },
      "execution_count": null,
      "outputs": [
        {
          "output_type": "execute_result",
          "data": {
            "text/plain": [
              "array([[12,  2,  7,  9],\n",
              "       [ 3,  5,  6,  0],\n",
              "       [ 2,  0,  2,  9]])"
            ]
          },
          "metadata": {},
          "execution_count": 20
        }
      ]
    },
    {
      "cell_type": "code",
      "source": [
        "x1[0] = 3.1415 # No se van a guardar los decimales\n",
        "x1"
      ],
      "metadata": {
        "colab": {
          "base_uri": "https://localhost:8080/"
        },
        "id": "HZflwhSUkKW1",
        "outputId": "f34c6533-d35a-4e58-879c-6218aaa5816c"
      },
      "execution_count": null,
      "outputs": [
        {
          "output_type": "execute_result",
          "data": {
            "text/plain": [
              "array([3, 1, 2, 5, 6, 2])"
            ]
          },
          "metadata": {},
          "execution_count": 21
        }
      ]
    },
    {
      "cell_type": "markdown",
      "source": [
        "## Slicing del Array: Accediendo a Subarrays\n"
      ],
      "metadata": {
        "id": "BJg-q2rJkbp5"
      }
    },
    {
      "cell_type": "code",
      "source": [
        "x1"
      ],
      "metadata": {
        "colab": {
          "base_uri": "https://localhost:8080/"
        },
        "id": "Q0aN4EkakUOK",
        "outputId": "a7c9721e-dbc9-494b-a4bd-b88991c4c89a"
      },
      "execution_count": null,
      "outputs": [
        {
          "output_type": "execute_result",
          "data": {
            "text/plain": [
              "array([3, 1, 2, 5, 6, 2])"
            ]
          },
          "metadata": {},
          "execution_count": 22
        }
      ]
    },
    {
      "cell_type": "code",
      "source": [
        "x1[:3]"
      ],
      "metadata": {
        "colab": {
          "base_uri": "https://localhost:8080/"
        },
        "id": "rjehA9UhkwmL",
        "outputId": "10404484-d946-4534-cb47-c27516044705"
      },
      "execution_count": null,
      "outputs": [
        {
          "output_type": "execute_result",
          "data": {
            "text/plain": [
              "array([3, 1, 2])"
            ]
          },
          "metadata": {},
          "execution_count": 23
        }
      ]
    },
    {
      "cell_type": "code",
      "source": [
        "x1[3:]"
      ],
      "metadata": {
        "colab": {
          "base_uri": "https://localhost:8080/"
        },
        "id": "uttUDiJok1CQ",
        "outputId": "f572ce6a-271d-450c-9552-4272c9837075"
      },
      "execution_count": null,
      "outputs": [
        {
          "output_type": "execute_result",
          "data": {
            "text/plain": [
              "array([5, 6, 2])"
            ]
          },
          "metadata": {},
          "execution_count": 24
        }
      ]
    },
    {
      "cell_type": "code",
      "source": [
        "x1[1:4]"
      ],
      "metadata": {
        "colab": {
          "base_uri": "https://localhost:8080/"
        },
        "id": "p4VQqhCwk4n5",
        "outputId": "99950d1e-550d-4145-e786-149eadec368c"
      },
      "execution_count": null,
      "outputs": [
        {
          "output_type": "execute_result",
          "data": {
            "text/plain": [
              "array([1, 2, 5])"
            ]
          },
          "metadata": {},
          "execution_count": 25
        }
      ]
    },
    {
      "cell_type": "code",
      "source": [
        "x1[::2]"
      ],
      "metadata": {
        "colab": {
          "base_uri": "https://localhost:8080/"
        },
        "id": "oBLl24Oqk7ee",
        "outputId": "d8d79893-d74d-4ab1-a901-7c23a4bc3c69"
      },
      "execution_count": null,
      "outputs": [
        {
          "output_type": "execute_result",
          "data": {
            "text/plain": [
              "array([3, 2, 6])"
            ]
          },
          "metadata": {},
          "execution_count": 26
        }
      ]
    },
    {
      "cell_type": "code",
      "source": [
        "x1[1::2]"
      ],
      "metadata": {
        "colab": {
          "base_uri": "https://localhost:8080/"
        },
        "id": "_k1bwGVjk_Bl",
        "outputId": "922b4ec0-9053-47d3-ecbb-1a0a3c97111b"
      },
      "execution_count": null,
      "outputs": [
        {
          "output_type": "execute_result",
          "data": {
            "text/plain": [
              "array([1, 5, 2])"
            ]
          },
          "metadata": {},
          "execution_count": 27
        }
      ]
    },
    {
      "cell_type": "code",
      "source": [
        "x1[::-1]"
      ],
      "metadata": {
        "colab": {
          "base_uri": "https://localhost:8080/"
        },
        "id": "TJJAzl8nlEys",
        "outputId": "7d579e33-ac3d-4f61-e1ae-10dcb6cb2820"
      },
      "execution_count": null,
      "outputs": [
        {
          "output_type": "execute_result",
          "data": {
            "text/plain": [
              "array([2, 6, 5, 2, 1, 3])"
            ]
          },
          "metadata": {},
          "execution_count": 28
        }
      ]
    },
    {
      "cell_type": "code",
      "source": [
        "x1[4::-2]"
      ],
      "metadata": {
        "colab": {
          "base_uri": "https://localhost:8080/"
        },
        "id": "Mc90Sl9qlKfL",
        "outputId": "48a10274-8bfd-4069-a808-9f1a665c61ca"
      },
      "execution_count": null,
      "outputs": [
        {
          "output_type": "execute_result",
          "data": {
            "text/plain": [
              "array([6, 2, 3])"
            ]
          },
          "metadata": {},
          "execution_count": 29
        }
      ]
    },
    {
      "cell_type": "code",
      "source": [
        "x2"
      ],
      "metadata": {
        "colab": {
          "base_uri": "https://localhost:8080/"
        },
        "id": "QM8t1ezylQF5",
        "outputId": "c83e2e4e-ea3e-4a32-83cd-f8d0f3264a6d"
      },
      "execution_count": null,
      "outputs": [
        {
          "output_type": "execute_result",
          "data": {
            "text/plain": [
              "array([[12,  2,  7,  9],\n",
              "       [ 3,  5,  6,  0],\n",
              "       [ 2,  0,  2,  9]])"
            ]
          },
          "metadata": {},
          "execution_count": 30
        }
      ]
    },
    {
      "cell_type": "code",
      "source": [
        "x2[:2, :3]"
      ],
      "metadata": {
        "colab": {
          "base_uri": "https://localhost:8080/"
        },
        "id": "STVkcszMlTc3",
        "outputId": "04b1badb-0c24-4620-c2d7-2e5a8083ded6"
      },
      "execution_count": null,
      "outputs": [
        {
          "output_type": "execute_result",
          "data": {
            "text/plain": [
              "array([[12,  2,  7],\n",
              "       [ 3,  5,  6]])"
            ]
          },
          "metadata": {},
          "execution_count": 32
        }
      ]
    },
    {
      "cell_type": "code",
      "source": [
        "x2[:3, ::2]"
      ],
      "metadata": {
        "colab": {
          "base_uri": "https://localhost:8080/"
        },
        "id": "w3ziHAwVlYcB",
        "outputId": "bc7b8ca3-8156-4969-c169-745b2f6d2502"
      },
      "execution_count": null,
      "outputs": [
        {
          "output_type": "execute_result",
          "data": {
            "text/plain": [
              "array([[12,  7],\n",
              "       [ 3,  6],\n",
              "       [ 2,  2]])"
            ]
          },
          "metadata": {},
          "execution_count": 33
        }
      ]
    },
    {
      "cell_type": "code",
      "source": [
        "x2[:,0]"
      ],
      "metadata": {
        "colab": {
          "base_uri": "https://localhost:8080/"
        },
        "id": "M51yJNcFldF1",
        "outputId": "6d9b0595-5ef0-4154-bff9-b91dc8aaf497"
      },
      "execution_count": null,
      "outputs": [
        {
          "output_type": "execute_result",
          "data": {
            "text/plain": [
              "array([12,  3,  2])"
            ]
          },
          "metadata": {},
          "execution_count": 34
        }
      ]
    },
    {
      "cell_type": "code",
      "source": [
        "x2[0,:]"
      ],
      "metadata": {
        "colab": {
          "base_uri": "https://localhost:8080/"
        },
        "id": "9BvrnB-RllX0",
        "outputId": "92851156-860e-4536-82b4-756ffd34bd34"
      },
      "execution_count": null,
      "outputs": [
        {
          "output_type": "execute_result",
          "data": {
            "text/plain": [
              "array([12,  2,  7,  9])"
            ]
          },
          "metadata": {},
          "execution_count": 35
        }
      ]
    },
    {
      "cell_type": "code",
      "source": [
        "x2[0]"
      ],
      "metadata": {
        "colab": {
          "base_uri": "https://localhost:8080/"
        },
        "id": "JYqF9ndXlrZG",
        "outputId": "bdaced60-60c9-4160-a40e-0b3fc2222116"
      },
      "execution_count": null,
      "outputs": [
        {
          "output_type": "execute_result",
          "data": {
            "text/plain": [
              "array([12,  2,  7,  9])"
            ]
          },
          "metadata": {},
          "execution_count": 36
        }
      ]
    },
    {
      "cell_type": "code",
      "source": [
        "print(x2)"
      ],
      "metadata": {
        "colab": {
          "base_uri": "https://localhost:8080/"
        },
        "id": "8wCQY38ilu3p",
        "outputId": "dd90aff7-d2af-4f28-8fee-88cc1c2dd802"
      },
      "execution_count": null,
      "outputs": [
        {
          "output_type": "stream",
          "name": "stdout",
          "text": [
            "[[12  2  7  9]\n",
            " [ 3  5  6  0]\n",
            " [ 2  0  2  9]]\n"
          ]
        }
      ]
    },
    {
      "cell_type": "code",
      "source": [
        "x2_sub = x2[:2, :2]\n",
        "print(x2_sub)"
      ],
      "metadata": {
        "colab": {
          "base_uri": "https://localhost:8080/"
        },
        "id": "aRIiXrUQlzQe",
        "outputId": "cef5ea2e-6462-4c1f-b40f-e126ca1a3652"
      },
      "execution_count": null,
      "outputs": [
        {
          "output_type": "stream",
          "name": "stdout",
          "text": [
            "[[12  2]\n",
            " [ 3  5]]\n"
          ]
        }
      ]
    },
    {
      "cell_type": "code",
      "source": [
        "x2_sub[0,0] = 30\n",
        "print(x2_sub)"
      ],
      "metadata": {
        "colab": {
          "base_uri": "https://localhost:8080/"
        },
        "id": "D1ewvxKUl5jB",
        "outputId": "59aa4f16-3b48-4e1d-8e8d-9eac4d13b9cb"
      },
      "execution_count": null,
      "outputs": [
        {
          "output_type": "stream",
          "name": "stdout",
          "text": [
            "[[30  2]\n",
            " [ 3  5]]\n"
          ]
        }
      ]
    },
    {
      "cell_type": "code",
      "source": [
        "print(x2)"
      ],
      "metadata": {
        "colab": {
          "base_uri": "https://localhost:8080/"
        },
        "id": "Pw9iWaOUmBlE",
        "outputId": "8a637e21-ffeb-4e56-abf5-992d57049bf7"
      },
      "execution_count": null,
      "outputs": [
        {
          "output_type": "stream",
          "name": "stdout",
          "text": [
            "[[30  2  7  9]\n",
            " [ 3  5  6  0]\n",
            " [ 2  0  2  9]]\n"
          ]
        }
      ]
    },
    {
      "cell_type": "markdown",
      "source": [
        "## Creando copias de Arrays"
      ],
      "metadata": {
        "id": "V3OzSqa4mH2e"
      }
    },
    {
      "cell_type": "code",
      "source": [
        "x2_sub_copy = x2[:2, :2].copy()\n",
        "print(x2_sub_copy)"
      ],
      "metadata": {
        "colab": {
          "base_uri": "https://localhost:8080/"
        },
        "id": "DveZ8sTvmKs5",
        "outputId": "31678385-d14c-4ca1-daeb-c5ad7c02199b"
      },
      "execution_count": null,
      "outputs": [
        {
          "output_type": "stream",
          "name": "stdout",
          "text": [
            "[[30  2]\n",
            " [ 3  5]]\n"
          ]
        }
      ]
    },
    {
      "cell_type": "code",
      "source": [
        "x2_sub_copy[0,0] = 50\n",
        "print(x2_sub_copy)"
      ],
      "metadata": {
        "colab": {
          "base_uri": "https://localhost:8080/"
        },
        "id": "KsEmT0VmmR_w",
        "outputId": "ae9f40d9-2380-439e-ba84-6c1d7ea8577b"
      },
      "execution_count": null,
      "outputs": [
        {
          "output_type": "stream",
          "name": "stdout",
          "text": [
            "[[50  2]\n",
            " [ 3  5]]\n"
          ]
        }
      ]
    },
    {
      "cell_type": "code",
      "source": [
        "print(x2) # No se ha modificado"
      ],
      "metadata": {
        "colab": {
          "base_uri": "https://localhost:8080/"
        },
        "id": "1nHLrbuMmWpT",
        "outputId": "27438eeb-681a-46a2-caba-5473596e4a9a"
      },
      "execution_count": null,
      "outputs": [
        {
          "output_type": "stream",
          "name": "stdout",
          "text": [
            "[[30  2  7  9]\n",
            " [ 3  5  6  0]\n",
            " [ 2  0  2  9]]\n"
          ]
        }
      ]
    },
    {
      "cell_type": "markdown",
      "source": [
        "## Reshape de Arrays"
      ],
      "metadata": {
        "id": "qxsDoj6NmdM4"
      }
    },
    {
      "cell_type": "code",
      "source": [
        "grid = np.arange(1,10).reshape((3, 3))\n",
        "print(grid)"
      ],
      "metadata": {
        "colab": {
          "base_uri": "https://localhost:8080/"
        },
        "id": "B853Jqdxmg_m",
        "outputId": "1fbe45d4-3fc2-4fac-b164-f78d93d6f985"
      },
      "execution_count": null,
      "outputs": [
        {
          "output_type": "stream",
          "name": "stdout",
          "text": [
            "[[1 2 3]\n",
            " [4 5 6]\n",
            " [7 8 9]]\n"
          ]
        }
      ]
    },
    {
      "cell_type": "code",
      "source": [
        "x = np.array([1, 2, 3])\n",
        "x.reshape((1, 3)) # Vector Fila"
      ],
      "metadata": {
        "colab": {
          "base_uri": "https://localhost:8080/"
        },
        "id": "2JIs6NGjmpge",
        "outputId": "a3773e6b-47db-4010-dee7-6a95dc75a2d2"
      },
      "execution_count": null,
      "outputs": [
        {
          "output_type": "execute_result",
          "data": {
            "text/plain": [
              "array([[1, 2, 3]])"
            ]
          },
          "metadata": {},
          "execution_count": 47
        }
      ]
    },
    {
      "cell_type": "code",
      "source": [
        "np.array([1, 2, 3])"
      ],
      "metadata": {
        "colab": {
          "base_uri": "https://localhost:8080/"
        },
        "id": "aqdgwlwTm4_m",
        "outputId": "0ddce9fb-17fd-4617-f4c5-b59f7cd66e3e"
      },
      "execution_count": null,
      "outputs": [
        {
          "output_type": "execute_result",
          "data": {
            "text/plain": [
              "array([1, 2, 3])"
            ]
          },
          "metadata": {},
          "execution_count": 48
        }
      ]
    },
    {
      "cell_type": "code",
      "source": [
        "x.reshape((3, 1)) # Vector Columna"
      ],
      "metadata": {
        "colab": {
          "base_uri": "https://localhost:8080/"
        },
        "id": "lKfkLqxvmX_-",
        "outputId": "64f7132d-a725-43d6-99b3-9eaf29b8e90b"
      },
      "execution_count": null,
      "outputs": [
        {
          "output_type": "execute_result",
          "data": {
            "text/plain": [
              "array([[1],\n",
              "       [2],\n",
              "       [3]])"
            ]
          },
          "metadata": {},
          "execution_count": 49
        }
      ]
    },
    {
      "cell_type": "code",
      "source": [
        "x[np.newaxis, :] # Vector fila"
      ],
      "metadata": {
        "colab": {
          "base_uri": "https://localhost:8080/"
        },
        "id": "bkkoTzoymD_B",
        "outputId": "ee0bdaa6-3fab-4a8b-9c56-4741fab1b44b"
      },
      "execution_count": null,
      "outputs": [
        {
          "output_type": "execute_result",
          "data": {
            "text/plain": [
              "array([[1, 2, 3]])"
            ]
          },
          "metadata": {},
          "execution_count": 51
        }
      ]
    },
    {
      "cell_type": "code",
      "source": [
        "x[:, np.newaxis] # Vector columna"
      ],
      "metadata": {
        "colab": {
          "base_uri": "https://localhost:8080/"
        },
        "id": "IoEgfrCPnP6N",
        "outputId": "1c0ec01d-eaac-4b32-f23e-157060f37b88"
      },
      "execution_count": null,
      "outputs": [
        {
          "output_type": "execute_result",
          "data": {
            "text/plain": [
              "array([[1],\n",
              "       [2],\n",
              "       [3]])"
            ]
          },
          "metadata": {},
          "execution_count": 52
        }
      ]
    },
    {
      "cell_type": "markdown",
      "source": [
        "### 💡 Explicación detallada de np.newaxis\n",
        "\n",
        "Cuando tienes un array unidimensional como `x = np.array([1, 2, 3])` con forma (3,), a veces necesitas convertirlo en un array bidimensional, ya sea como:\n",
        "\n",
        "1. Un **vector fila** con forma (1, 3) - una fila, tres columnas\n",
        "2. Un **vector columna** con forma (3, 1) - tres filas, una columna\n",
        "\n",
        "Hay dos formas principales de hacer esto:\n",
        "\n",
        "#### 1. Usando reshape()\n",
        "```python\n",
        "x.reshape(1, 3)  # Vector fila: [[1, 2, 3]]\n",
        "x.reshape(3, 1)  # Vector columna: [[1], [2], [3]]\n",
        "```\n",
        "\n",
        "#### 2. Usando np.newaxis\n",
        "```python\n",
        "x[np.newaxis, :]  # Vector fila: inserta un nuevo eje en la posición 0\n",
        "x[:, np.newaxis]  # Vector columna: inserta un nuevo eje en la posición 1\n",
        "```\n",
        "\n",
        "### ¿Cómo funciona np.newaxis?\n",
        "\n",
        "- `np.newaxis` es simplemente un alias para `None` en el contexto de la indexación\n",
        "- Cuando lo colocas dentro de los corchetes de indexación, le indica a NumPy que debe insertar una dimensión de tamaño 1 en esa posición\n",
        "\n",
        "### Ejemplo paso a paso\n",
        "\n",
        "Tomemos el array `x = np.array([1, 2, 3])` con forma (3,):\n",
        "\n",
        "1. **Creando un vector fila** (1×3):\n",
        "   ```python\n",
        "   row_vector = x[np.newaxis, :]\n",
        "   # o equivalentemente: x[None, :]\n",
        "   ```\n",
        "   \n",
        "   - La forma cambia de (3,) a (1, 3)\n",
        "   - Se visualiza como: `[[1, 2, 3]]`\n",
        "   - El primer índice ahora selecciona filas (solo hay una)\n",
        "   - El segundo índice selecciona columnas\n",
        "\n",
        "2. **Creando un vector columna** (3×1):\n",
        "   ```python\n",
        "   column_vector = x[:, np.newaxis]\n",
        "   # o equivalentemente: x[:, None]\n",
        "   ```\n",
        "   \n",
        "   - La forma cambia de (3,) a (3, 1)\n",
        "   - Se visualiza como: `[[1], [2], [3]]`\n",
        "   - El primer índice selecciona filas\n",
        "   - El segundo índice selecciona columnas (solo hay una)\n",
        "\n",
        "### ¿Por qué es útil?\n",
        "\n",
        "Esta técnica es extremadamente útil en muchos contextos:\n",
        "\n",
        "1. **Broadcasting**: Permite realizar operaciones entre arrays de diferentes dimensiones\n",
        "2. **Álgebra lineal**: Facilita la diferenciación entre vectores fila y columna\n",
        "3. **Procesamiento de datos**: A menudo necesitas añadir una dimensión para procesar datos en lotes\n",
        "4. **Visualización**: Algunas funciones esperan entradas con dimensiones específicas\n",
        "\n",
        "### Ejemplo práctico de uso\n",
        "\n",
        "```python\n",
        "# Tenemos dos arrays\n",
        "x = np.array([1, 2, 3])\n",
        "y = np.array([4, 5, 6])\n",
        "\n",
        "# Queremos calcular el producto externo (outer product)\n",
        "# Para esto, necesitamos convertirlos en vector columna y vector fila\n",
        "outer_product = x[:, np.newaxis] * y  # o x.reshape(3, 1) * y\n",
        "\n",
        "# El resultado será una matriz 3×3:\n",
        "# [[ 4,  5,  6],\n",
        "#  [ 8, 10, 12],\n",
        "#  [12, 15, 18]]\n",
        "```"
      ],
      "metadata": {
        "id": "DoWDl2cRnda8"
      }
    },
    {
      "cell_type": "markdown",
      "source": [
        "## Concatenación y Splitting de Array"
      ],
      "metadata": {
        "id": "yLg6lUMYnxCK"
      }
    },
    {
      "cell_type": "markdown",
      "source": [
        "### Concatenación de Arrays\n"
      ],
      "metadata": {
        "id": "o246x0xxn-JS"
      }
    },
    {
      "cell_type": "code",
      "source": [
        "x = np.array([1, 2, 3])\n",
        "y = np.array([3, 2, 1])\n",
        "np.concatenate([x, y])"
      ],
      "metadata": {
        "colab": {
          "base_uri": "https://localhost:8080/"
        },
        "id": "kESTZXzQoAxF",
        "outputId": "afa038be-c73f-4617-9633-bbfe1277acb6"
      },
      "execution_count": null,
      "outputs": [
        {
          "output_type": "execute_result",
          "data": {
            "text/plain": [
              "array([1, 2, 3, 3, 2, 1])"
            ]
          },
          "metadata": {},
          "execution_count": 53
        }
      ]
    },
    {
      "cell_type": "code",
      "source": [
        "z  = [20, 30, 40]\n",
        "print(np.concatenate([x, y, z]))"
      ],
      "metadata": {
        "colab": {
          "base_uri": "https://localhost:8080/"
        },
        "id": "rD9oJAPHnVqk",
        "outputId": "4b7b3fe5-1ac4-4280-bbf1-d72860db7a59"
      },
      "execution_count": null,
      "outputs": [
        {
          "output_type": "stream",
          "name": "stdout",
          "text": [
            "[ 1  2  3  3  2  1 20 30 40]\n"
          ]
        }
      ]
    },
    {
      "cell_type": "code",
      "source": [
        "grid = np.array([[1, 2, 3],\n",
        "                 [4, 5, 6]])"
      ],
      "metadata": {
        "id": "qflfLGoooWu-"
      },
      "execution_count": null,
      "outputs": []
    },
    {
      "cell_type": "code",
      "source": [
        "np.concatenate([grid, grid])"
      ],
      "metadata": {
        "colab": {
          "base_uri": "https://localhost:8080/"
        },
        "id": "Jie3XA-KoTXW",
        "outputId": "9c67d46e-a9a9-4eda-ecf4-edcba01bebb1"
      },
      "execution_count": null,
      "outputs": [
        {
          "output_type": "execute_result",
          "data": {
            "text/plain": [
              "array([[1, 2, 3],\n",
              "       [4, 5, 6],\n",
              "       [1, 2, 3],\n",
              "       [4, 5, 6]])"
            ]
          },
          "metadata": {},
          "execution_count": 80
        }
      ]
    },
    {
      "cell_type": "code",
      "source": [
        "np.concatenate([grid, grid], axis=1)"
      ],
      "metadata": {
        "colab": {
          "base_uri": "https://localhost:8080/"
        },
        "id": "GoSjzDZMojy7",
        "outputId": "e87fd3fe-163c-4012-cf63-3c364d205cd0"
      },
      "execution_count": null,
      "outputs": [
        {
          "output_type": "execute_result",
          "data": {
            "text/plain": [
              "array([[1, 2, 3, 1, 2, 3],\n",
              "       [4, 5, 6, 4, 5, 6]])"
            ]
          },
          "metadata": {},
          "execution_count": 81
        }
      ]
    },
    {
      "cell_type": "code",
      "source": [
        "np.vstack([x, grid])"
      ],
      "metadata": {
        "colab": {
          "base_uri": "https://localhost:8080/"
        },
        "id": "Y28vyX3vorGC",
        "outputId": "6e4c95e1-f6bb-4844-c48d-8296841238ff"
      },
      "execution_count": null,
      "outputs": [
        {
          "output_type": "execute_result",
          "data": {
            "text/plain": [
              "array([[1, 2, 3],\n",
              "       [1, 2, 3],\n",
              "       [4, 5, 6]])"
            ]
          },
          "metadata": {},
          "execution_count": 69
        }
      ]
    },
    {
      "cell_type": "code",
      "source": [
        "y = np.array([[99],\n",
        "              [99]])\n",
        "np.hstack([grid, y])"
      ],
      "metadata": {
        "colab": {
          "base_uri": "https://localhost:8080/"
        },
        "id": "pG9M2OePo1Oq",
        "outputId": "c52e4e7d-f048-44d7-cc6f-37e2ba0c04ce"
      },
      "execution_count": null,
      "outputs": [
        {
          "output_type": "execute_result",
          "data": {
            "text/plain": [
              "array([[ 1,  2,  3, 99],\n",
              "       [ 4,  5,  6, 99]])"
            ]
          },
          "metadata": {},
          "execution_count": 70
        }
      ]
    },
    {
      "cell_type": "markdown",
      "source": [
        "### Splitting Arrays"
      ],
      "metadata": {
        "id": "s9zojV3Nper-"
      }
    },
    {
      "cell_type": "code",
      "source": [
        "x = [1, 2, 3, 99, 99, 3, 2, 1]\n",
        "x1, x2, x3 = np.split(x, [3, 5]) # Indicándole que los cortes van en el índice 3 y 5\n",
        "print(x1, x2, x3)"
      ],
      "metadata": {
        "colab": {
          "base_uri": "https://localhost:8080/"
        },
        "id": "J-UQTbGjpIld",
        "outputId": "973f66c5-bb0d-419a-cb0d-7c8d5a12e4b4"
      },
      "execution_count": null,
      "outputs": [
        {
          "output_type": "stream",
          "name": "stdout",
          "text": [
            "[1 2 3] [99 99] [3 2 1]\n"
          ]
        }
      ]
    },
    {
      "cell_type": "code",
      "source": [
        "grid = np.arange(16).reshape((4, 4))\n",
        "grid"
      ],
      "metadata": {
        "colab": {
          "base_uri": "https://localhost:8080/"
        },
        "id": "YtEc4hHepuLo",
        "outputId": "0f42bc5f-2127-4fa9-dbf0-07df5624f1d1"
      },
      "execution_count": null,
      "outputs": [
        {
          "output_type": "execute_result",
          "data": {
            "text/plain": [
              "array([[ 0,  1,  2,  3],\n",
              "       [ 4,  5,  6,  7],\n",
              "       [ 8,  9, 10, 11],\n",
              "       [12, 13, 14, 15]])"
            ]
          },
          "metadata": {},
          "execution_count": 72
        }
      ]
    },
    {
      "cell_type": "code",
      "source": [
        "upper, lower = np.vsplit(grid,[2])\n",
        "print(upper)\n",
        "print(lower)"
      ],
      "metadata": {
        "colab": {
          "base_uri": "https://localhost:8080/"
        },
        "id": "zj6aWw4ep91B",
        "outputId": "b3197c3c-cea7-442f-f001-9635a09b1463"
      },
      "execution_count": null,
      "outputs": [
        {
          "output_type": "stream",
          "name": "stdout",
          "text": [
            "[[0 1 2 3]\n",
            " [4 5 6 7]]\n",
            "[[ 8  9 10 11]\n",
            " [12 13 14 15]]\n"
          ]
        }
      ]
    },
    {
      "cell_type": "code",
      "source": [
        "left, right = np.hsplit(grid, [2])\n",
        "print(left)\n",
        "print(right)"
      ],
      "metadata": {
        "colab": {
          "base_uri": "https://localhost:8080/"
        },
        "id": "X9czU73lqMKL",
        "outputId": "711b49d6-c9b5-49f0-dbbb-1bde8603c852"
      },
      "execution_count": null,
      "outputs": [
        {
          "output_type": "stream",
          "name": "stdout",
          "text": [
            "[[ 0  1]\n",
            " [ 4  5]\n",
            " [ 8  9]\n",
            " [12 13]]\n",
            "[[ 2  3]\n",
            " [ 6  7]\n",
            " [10 11]\n",
            " [14 15]]\n"
          ]
        }
      ]
    },
    {
      "cell_type": "markdown",
      "source": [
        "# Ejercicios de Repaso: Fundamentos de Arrays NumPy\n",
        "\n",
        "## Ejercicio 1: Manipulación básica de arrays\n",
        "\n",
        "En este ejercicio trabajarás con las operaciones básicas de creación, indexación y modificación de arrays NumPy.\n",
        "\n",
        "```python\n",
        "import numpy as np\n",
        "np.random.seed(42)  # Para reproducibilidad\n",
        "\n",
        "# 1.1 Crea un array unidimensional con los números del 1 al 10\n",
        "# Tu código aquí\n",
        "\n",
        "# 1.2 Crea un array bidimensional de tamaño 3x4 con números aleatorios enteros entre 0 y 100\n",
        "# Tu código aquí\n",
        "\n",
        "# 1.3 Accede al elemento en la posición (1,2) del array bidimensional\n",
        "# Tu código aquí\n",
        "\n",
        "# 1.4 Modifica todos los elementos de la primera fila del array bidimensional para que sean igual a 0\n",
        "# Tu código aquí\n",
        "\n",
        "# 1.5 Imprime los atributos ndim, shape, size y dtype del array bidimensional\n",
        "# Tu código aquí\n",
        "```\n",
        "\n",
        "## Ejercicio 2: Slicing y vistas de arrays\n",
        "\n",
        "Este ejercicio te ayudará a comprender mejor el funcionamiento del slicing en NumPy y la diferencia entre vistas y copias de arrays.\n",
        "\n",
        "```python\n",
        "import numpy as np\n",
        "\n",
        "# Crea una matriz de 5x5 con valores del 1 al 25\n",
        "matriz = np.arange(1, 26).reshape(5, 5)\n",
        "print(\"Matriz original:\")\n",
        "print(matriz)\n",
        "\n",
        "# 2.1 Extrae una submatriz de 3x3 que contenga los elementos centrales de la matriz original\n",
        "# Tu código aquí\n",
        "\n",
        "# 2.2 Modifica todos los elementos de la submatriz para que sean igual a 0 y observa qué pasa con la matriz original\n",
        "# Tu código aquí\n",
        "\n",
        "# 2.3 Ahora crea una copia explícita de la submatriz central (3x3)\n",
        "# Tu código aquí\n",
        "\n",
        "# 2.4 Modifica los elementos de la copia para que sean igual a 99 y verifica que la matriz original no cambia\n",
        "# Tu código aquí\n",
        "\n",
        "# 2.5 Extrae la última columna de la matriz original\n",
        "# Tu código aquí\n",
        "\n",
        "# 2.6 Extrae las filas pares de la matriz original (filas 0, 2, 4)\n",
        "# Tu código aquí\n",
        "```\n",
        "\n",
        "## Ejercicio 3: Concatenación, división y reshape de arrays\n",
        "\n",
        "Este ejercicio se centra en las operaciones de unión, división y cambio de forma de arrays NumPy.\n",
        "\n",
        "```python\n",
        "import numpy as np\n",
        "\n",
        "# 3.1 Crea dos arrays:\n",
        "# - Un array 'a' de forma (3,2) con valores del 1 al 6\n",
        "# - Un array 'b' de forma (3,2) con valores del 7 al 12\n",
        "# Tu código aquí\n",
        "\n",
        "# 3.2 Concatena los arrays 'a' y 'b' horizontalmente (a lo largo del eje 1)\n",
        "# Tu código aquí\n",
        "\n",
        "# 3.3 Concatena los arrays 'a' y 'b' verticalmente (a lo largo del eje 0)\n",
        "# Tu código aquí\n",
        "\n",
        "# 3.4 Crea un array unidimensional 'c' con valores del 1 al 12\n",
        "# Tu código aquí\n",
        "\n",
        "# 3.5 Utiliza reshape para convertir 'c' en un array de forma (4,3)\n",
        "# Tu código aquí\n",
        "\n",
        "# 3.6 Divide el array del paso anterior en 2 arrays de forma (2,3) usando np.split\n",
        "# Tu código aquí\n",
        "\n",
        "# 3.7 Crea un array unidimensional 'd' con valores del 1 al 3 y conviértelo en:\n",
        "# - Un vector fila (forma 1x3) usando np.newaxis\n",
        "# - Un vector columna (forma 3x1) usando np.newaxis\n",
        "# Tu código aquí\n",
        "\n",
        "# 3.8 Crea una matriz 4x4 con valores del 1 al 16 y divídela en 4 submatrices de 2x2 usando vsplit y hsplit\n",
        "# Tu código aquí\n",
        "```\n"
      ],
      "metadata": {
        "id": "SdkLhne2qdZB"
      }
    },
    {
      "cell_type": "code",
      "source": [
        "import numpy as np\n",
        "np.random.seed(42)\n",
        "# np.random.randint"
      ],
      "metadata": {
        "id": "tWXEC2wVqUm_"
      },
      "execution_count": null,
      "outputs": []
    },
    {
      "cell_type": "markdown",
      "source": [
        "### Soluciones"
      ],
      "metadata": {
        "id": "rB8Z5F7RT6R1"
      }
    },
    {
      "cell_type": "markdown",
      "source": [
        "#### Solucones Ejercicio 1"
      ],
      "metadata": {
        "id": "vhI-IJN8UDeh"
      }
    },
    {
      "cell_type": "code",
      "source": [
        "# 1.1 Crea un array unidimensional con los números del 1 al 10\n",
        "arr1d = np.arange(1, 11)\n",
        "print(arr1d)\n",
        "\n",
        "# 1.2 Crea un array bidimensional de tamaño 3x4 con números aleatorios enteros entre 0 y 100\n",
        "arr2d = np.random.randint(0, 101, size=(3, 4))\n",
        "print(arr2d)\n",
        "\n",
        "# 1.3 Accede al elemento en la posición (1,2) del array bidimensional\n",
        "elemento = arr2d[1, 2]\n",
        "print(elemento)\n",
        "\n",
        "# 1.4 Modifica todos los elementos de la primera fila del array bidimensional para que sean igual a 0\n",
        "arr2d[0,:] = 0\n",
        "print(arr2d)\n",
        "\n",
        "# 1.5 Imprime los atributos ndim, shape, size y dtype del array bidimensional\n",
        "print(arr2d.ndim)\n",
        "print(arr2d.shape)\n",
        "print(arr2d.size)\n",
        "print(arr2d.dtype)"
      ],
      "metadata": {
        "colab": {
          "base_uri": "https://localhost:8080/"
        },
        "id": "2Tw4rKifqKaO",
        "outputId": "88f7d583-4af9-45da-92cb-e988b669604a"
      },
      "execution_count": null,
      "outputs": [
        {
          "output_type": "stream",
          "name": "stdout",
          "text": [
            "[ 1  2  3  4  5  6  7  8  9 10]\n",
            "[[23  2 21 52]\n",
            " [ 1 87 29 37]\n",
            " [ 1 63 59 20]]\n",
            "29\n",
            "[[ 0  0  0  0]\n",
            " [ 1 87 29 37]\n",
            " [ 1 63 59 20]]\n",
            "2\n",
            "(3, 4)\n",
            "12\n",
            "int64\n"
          ]
        }
      ]
    },
    {
      "cell_type": "markdown",
      "source": [
        "#### Soluciones Ejericio 2"
      ],
      "metadata": {
        "id": "fx1KIKfzUx9p"
      }
    },
    {
      "cell_type": "code",
      "source": [
        "import numpy as np\n",
        "\n",
        "# Crea una matriz de 5x5 con valores del 1 al 25\n",
        "matriz = np.arange(1, 26).reshape(5, 5)\n",
        "print(\"Matriz original:\")\n",
        "print(matriz)\n",
        "\n",
        "# 2.1 Extrae una submatriz de 3x3 que contenga los elementos centrales de la matriz original\n",
        "submatriz = matriz[1:4, 1:4]\n",
        "print(submatriz)\n",
        "\n",
        "# 2.2 Modifica todos los elementos de la submatriz para que sean igual a 0 y observa qué pasa con la matriz original\n",
        "submatriz[:] = 0\n",
        "print(\"Matriz original después de modificar la submatriz:\")\n",
        "print(matriz)\n",
        "print(submatriz)\n",
        "\n",
        "# 2.3 Ahora crea una copia explícita de la submatriz central (3x3)\n",
        "matriz = np.arange(1, 26).reshape(5, 5)\n",
        "submatriz = matriz[1:4, 1:4].copy()\n",
        "print(submatriz)\n",
        "\n",
        "# 2.4 Modifica los elementos de la copia para que sean igual a 99 y verifica que la matriz original no cambia\n",
        "submatriz[:] = 99\n",
        "print(\"Matriz original después de modificar la copia:\")\n",
        "print(matriz)\n",
        "print(submatriz)\n",
        "\n",
        "# 2.5 Extrae la última columna de la matriz original\n",
        "ultima_columna = matriz[:, -1]\n",
        "print(ultima_columna)\n",
        "\n",
        "# 2.6 Extrae las filas pares de la matriz original (filas 0, 2, 4)\n",
        "filas_pares = matriz[::2]\n",
        "print(filas_pares)"
      ],
      "metadata": {
        "colab": {
          "base_uri": "https://localhost:8080/"
        },
        "id": "k29jLfueU1Ua",
        "outputId": "7c7c5e38-2adc-40b2-bd01-3e36d4c7c394"
      },
      "execution_count": null,
      "outputs": [
        {
          "output_type": "stream",
          "name": "stdout",
          "text": [
            "Matriz original:\n",
            "[[ 1  2  3  4  5]\n",
            " [ 6  7  8  9 10]\n",
            " [11 12 13 14 15]\n",
            " [16 17 18 19 20]\n",
            " [21 22 23 24 25]]\n",
            "[[ 7  8  9]\n",
            " [12 13 14]\n",
            " [17 18 19]]\n",
            "Matriz original después de modificar la submatriz:\n",
            "[[ 1  2  3  4  5]\n",
            " [ 6  0  0  0 10]\n",
            " [11  0  0  0 15]\n",
            " [16  0  0  0 20]\n",
            " [21 22 23 24 25]]\n",
            "[[0 0 0]\n",
            " [0 0 0]\n",
            " [0 0 0]]\n",
            "[[ 7  8  9]\n",
            " [12 13 14]\n",
            " [17 18 19]]\n",
            "Matriz original después de modificar la copia:\n",
            "[[ 1  2  3  4  5]\n",
            " [ 6  7  8  9 10]\n",
            " [11 12 13 14 15]\n",
            " [16 17 18 19 20]\n",
            " [21 22 23 24 25]]\n",
            "[[99 99 99]\n",
            " [99 99 99]\n",
            " [99 99 99]]\n",
            "[ 5 10 15 20 25]\n",
            "[[ 1  2  3  4  5]\n",
            " [11 12 13 14 15]\n",
            " [21 22 23 24 25]]\n"
          ]
        }
      ]
    },
    {
      "cell_type": "markdown",
      "source": [
        "#### Soluciones Ejercicio 3"
      ],
      "metadata": {
        "id": "zYNziF2hVidD"
      }
    },
    {
      "cell_type": "code",
      "source": [
        "# 3.1 Crea dos arrays:\n",
        "# - Un array 'a' de forma (3,2) con valores del 1 al 6\n",
        "# - Un array 'b' de forma (3,2) con valores del 7 al 12\n",
        "a = np.arange(1, 7).reshape(3, 2)\n",
        "b = np.arange(7, 13).reshape(3, 2)\n",
        "print(a)\n",
        "print(b)\n",
        "\n",
        "# 3.2 Concatena los arrays 'a' y 'b' horizontalmente (a lo largo del eje 1)\n",
        "c_horizontal = np.concatenate([a, b], axis=1)\n",
        "print(c_horizontal)\n",
        "\n",
        "# 3.3 Concatena los arrays 'a' y 'b' verticalmente (a lo largo del eje 0)\n",
        "c_vertical = np.concatenate([a, b], axis=0)\n",
        "print(c_vertical)\n",
        "\n",
        "# 3.4 Crea un array unidimensional 'c' con valores del 1 al 12\n",
        "c = np.arange(1, 13)\n",
        "print(c)\n",
        "\n",
        "# 3.5 Utiliza reshape para convertir 'c' en un array de forma (4,3)\n",
        "c_reshaped = c.reshape(4, 3)\n",
        "print(c_reshaped)\n",
        "\n",
        "# 3.6 Divide el array del paso anterior en 2 arrays de forma (2,3) usando np.split\n",
        "c_split1, c_split2 = np.split(c_reshaped, 2)\n",
        "print(c_split1)\n",
        "print(c_split2)\n",
        "\n",
        "# 3.7 Crea un array unidimensional 'd' con valores del 1 al 3 y conviértelo en:\n",
        "# - Un vector fila (forma 1x3) usando np.newaxis\n",
        "# - Un vector columna (forma 3x1) usando np.newaxis\n",
        "d = np.arange(1, 4)\n",
        "d_fila = d[np.newaxis, :]\n",
        "d_columna = d[:, np.newaxis]\n",
        "print(d)\n",
        "print(d_fila)\n",
        "print(d_columna)\n",
        "\n",
        "# 3.8 Crea una matriz 4x4 con valores del 1 al 16 y divídela en 4 submatrices de 2x2 usando vsplit y hsplit\n",
        "matriz_4x4 = np.arange(1, 17).reshape(4, 4)\n",
        "print(matriz_4x4)\n",
        "\n",
        "# Primero dividimos en dos partes horizontal y verticalmente\n",
        "top, bottom = np.vsplit(matriz_4x4, 2)\n",
        "print(top)\n",
        "print(bottom)\n",
        "\n",
        "# Ahora dividimos cada parte en izquierda y derecha\n",
        "top_left, top_right = np.hsplit(top, 2)\n",
        "bottom_left, bottom_right = np.hsplit(bottom, 2)\n",
        "\n",
        "print(top_left)\n",
        "print(top_right)\n",
        "print(bottom_left)\n",
        "print(bottom_right)\n"
      ],
      "metadata": {
        "colab": {
          "base_uri": "https://localhost:8080/"
        },
        "id": "wHSR83ImVkrC",
        "outputId": "7bdfb22f-5ee4-4a48-9caa-954d9e4965f4"
      },
      "execution_count": null,
      "outputs": [
        {
          "output_type": "stream",
          "name": "stdout",
          "text": [
            "[[1 2]\n",
            " [3 4]\n",
            " [5 6]]\n",
            "[[ 7  8]\n",
            " [ 9 10]\n",
            " [11 12]]\n",
            "[[ 1  2  7  8]\n",
            " [ 3  4  9 10]\n",
            " [ 5  6 11 12]]\n",
            "[[ 1  2]\n",
            " [ 3  4]\n",
            " [ 5  6]\n",
            " [ 7  8]\n",
            " [ 9 10]\n",
            " [11 12]]\n",
            "[ 1  2  3  4  5  6  7  8  9 10 11 12]\n",
            "[[ 1  2  3]\n",
            " [ 4  5  6]\n",
            " [ 7  8  9]\n",
            " [10 11 12]]\n",
            "[[1 2 3]\n",
            " [4 5 6]]\n",
            "[[ 7  8  9]\n",
            " [10 11 12]]\n",
            "[1 2 3]\n",
            "[[1 2 3]]\n",
            "[[1]\n",
            " [2]\n",
            " [3]]\n",
            "[[ 1  2  3  4]\n",
            " [ 5  6  7  8]\n",
            " [ 9 10 11 12]\n",
            " [13 14 15 16]]\n",
            "[[1 2 3 4]\n",
            " [5 6 7 8]]\n",
            "[[ 9 10 11 12]\n",
            " [13 14 15 16]]\n",
            "[[1 2]\n",
            " [5 6]]\n",
            "[[3 4]\n",
            " [7 8]]\n",
            "[[ 9 10]\n",
            " [13 14]]\n",
            "[[11 12]\n",
            " [15 16]]\n"
          ]
        }
      ]
    },
    {
      "cell_type": "code",
      "source": [
        "# 3.6 Divide el array del paso anterior en 2 arrays de forma (2,3) usando np.split\n",
        "c_split1, c_split2 = np.split(c_reshaped, 2)\n",
        "print(c_split1)\n",
        "print(c_split2)"
      ],
      "metadata": {
        "id": "LRJVU8FAYsyV"
      },
      "execution_count": null,
      "outputs": []
    },
    {
      "cell_type": "code",
      "source": [
        "c_reshaped"
      ],
      "metadata": {
        "colab": {
          "base_uri": "https://localhost:8080/"
        },
        "id": "p5Jm2cMkY_6u",
        "outputId": "2c2ce859-f0d1-41a2-8809-d2e8cbec49b5"
      },
      "execution_count": null,
      "outputs": [
        {
          "output_type": "execute_result",
          "data": {
            "text/plain": [
              "array([[ 1,  2,  3],\n",
              "       [ 4,  5,  6],\n",
              "       [ 7,  8,  9],\n",
              "       [10, 11, 12]])"
            ]
          },
          "metadata": {},
          "execution_count": 31
        }
      ]
    },
    {
      "cell_type": "code",
      "source": [
        "np.split(c_reshaped, 2)"
      ],
      "metadata": {
        "colab": {
          "base_uri": "https://localhost:8080/"
        },
        "id": "ATwzbi11Yrx3",
        "outputId": "947375c5-a981-46fa-ea3c-5063fbf50126"
      },
      "execution_count": null,
      "outputs": [
        {
          "output_type": "execute_result",
          "data": {
            "text/plain": [
              "[array([[1, 2, 3],\n",
              "        [4, 5, 6]]),\n",
              " array([[ 7,  8,  9],\n",
              "        [10, 11, 12]])]"
            ]
          },
          "metadata": {},
          "execution_count": 32
        }
      ]
    },
    {
      "cell_type": "code",
      "source": [
        "np.split(c_reshaped, 4)"
      ],
      "metadata": {
        "colab": {
          "base_uri": "https://localhost:8080/"
        },
        "id": "aIHtpaRXYKn-",
        "outputId": "d621a464-5126-4a72-9423-83e200c01d6f"
      },
      "execution_count": null,
      "outputs": [
        {
          "output_type": "execute_result",
          "data": {
            "text/plain": [
              "[array([[1, 2, 3]]),\n",
              " array([[4, 5, 6]]),\n",
              " array([[7, 8, 9]]),\n",
              " array([[10, 11, 12]])]"
            ]
          },
          "metadata": {},
          "execution_count": 34
        }
      ]
    },
    {
      "cell_type": "code",
      "source": [
        "np.split(c_reshaped, 3)"
      ],
      "metadata": {
        "colab": {
          "base_uri": "https://localhost:8080/",
          "height": 280
        },
        "id": "5XFLe06QZJTs",
        "outputId": "d94b7604-19db-495d-e757-7cb03562681f"
      },
      "execution_count": null,
      "outputs": [
        {
          "output_type": "error",
          "ename": "ValueError",
          "evalue": "array split does not result in an equal division",
          "traceback": [
            "\u001b[0;31m---------------------------------------------------------------------------\u001b[0m",
            "\u001b[0;31mValueError\u001b[0m                                Traceback (most recent call last)",
            "\u001b[0;32m<ipython-input-35-e756da165160>\u001b[0m in \u001b[0;36m<cell line: 0>\u001b[0;34m()\u001b[0m\n\u001b[0;32m----> 1\u001b[0;31m \u001b[0mnp\u001b[0m\u001b[0;34m.\u001b[0m\u001b[0msplit\u001b[0m\u001b[0;34m(\u001b[0m\u001b[0mc_reshaped\u001b[0m\u001b[0;34m,\u001b[0m \u001b[0;36m3\u001b[0m\u001b[0;34m)\u001b[0m\u001b[0;34m\u001b[0m\u001b[0;34m\u001b[0m\u001b[0m\n\u001b[0m",
            "\u001b[0;32m/usr/local/lib/python3.11/dist-packages/numpy/lib/shape_base.py\u001b[0m in \u001b[0;36msplit\u001b[0;34m(ary, indices_or_sections, axis)\u001b[0m\n\u001b[1;32m    862\u001b[0m         \u001b[0mN\u001b[0m \u001b[0;34m=\u001b[0m \u001b[0mary\u001b[0m\u001b[0;34m.\u001b[0m\u001b[0mshape\u001b[0m\u001b[0;34m[\u001b[0m\u001b[0maxis\u001b[0m\u001b[0;34m]\u001b[0m\u001b[0;34m\u001b[0m\u001b[0;34m\u001b[0m\u001b[0m\n\u001b[1;32m    863\u001b[0m         \u001b[0;32mif\u001b[0m \u001b[0mN\u001b[0m \u001b[0;34m%\u001b[0m \u001b[0msections\u001b[0m\u001b[0;34m:\u001b[0m\u001b[0;34m\u001b[0m\u001b[0;34m\u001b[0m\u001b[0m\n\u001b[0;32m--> 864\u001b[0;31m             raise ValueError(\n\u001b[0m\u001b[1;32m    865\u001b[0m                 'array split does not result in an equal division') from None\n\u001b[1;32m    866\u001b[0m     \u001b[0;32mreturn\u001b[0m \u001b[0marray_split\u001b[0m\u001b[0;34m(\u001b[0m\u001b[0mary\u001b[0m\u001b[0;34m,\u001b[0m \u001b[0mindices_or_sections\u001b[0m\u001b[0;34m,\u001b[0m \u001b[0maxis\u001b[0m\u001b[0;34m)\u001b[0m\u001b[0;34m\u001b[0m\u001b[0;34m\u001b[0m\u001b[0m\n",
            "\u001b[0;31mValueError\u001b[0m: array split does not result in an equal division"
          ]
        }
      ]
    },
    {
      "cell_type": "code",
      "source": [
        "np.split(c_reshaped, [2, 3])"
      ],
      "metadata": {
        "colab": {
          "base_uri": "https://localhost:8080/"
        },
        "id": "fUcwIONSXzRX",
        "outputId": "36a893ed-a272-48f5-84ab-72c6c05a8b14"
      },
      "execution_count": null,
      "outputs": [
        {
          "output_type": "execute_result",
          "data": {
            "text/plain": [
              "[array([[1, 2, 3],\n",
              "        [4, 5, 6]]),\n",
              " array([[7, 8, 9]]),\n",
              " array([[10, 11, 12]])]"
            ]
          },
          "metadata": {},
          "execution_count": 36
        }
      ]
    },
    {
      "cell_type": "code",
      "source": [],
      "metadata": {
        "id": "LT5PQTtGXoBW"
      },
      "execution_count": null,
      "outputs": []
    },
    {
      "cell_type": "code",
      "source": [],
      "metadata": {
        "id": "SdQVNSjJXl-L"
      },
      "execution_count": null,
      "outputs": []
    },
    {
      "cell_type": "code",
      "source": [],
      "metadata": {
        "id": "TnBaPqiYUNZS"
      },
      "execution_count": null,
      "outputs": []
    },
    {
      "cell_type": "code",
      "source": [],
      "metadata": {
        "id": "Yng7No7ZqIic"
      },
      "execution_count": null,
      "outputs": []
    },
    {
      "cell_type": "code",
      "source": [],
      "metadata": {
        "id": "sW-y_-o3qGkm"
      },
      "execution_count": null,
      "outputs": []
    },
    {
      "cell_type": "code",
      "source": [],
      "metadata": {
        "id": "h8FUGVKzpAlw"
      },
      "execution_count": null,
      "outputs": []
    },
    {
      "cell_type": "code",
      "source": [],
      "metadata": {
        "id": "Mtr12u1Johd7"
      },
      "execution_count": null,
      "outputs": []
    },
    {
      "cell_type": "code",
      "source": [],
      "metadata": {
        "id": "kgYJhHgKnOLi"
      },
      "execution_count": null,
      "outputs": []
    },
    {
      "cell_type": "code",
      "source": [],
      "metadata": {
        "id": "PbFgbMYslXE3"
      },
      "execution_count": null,
      "outputs": []
    },
    {
      "cell_type": "code",
      "source": [],
      "metadata": {
        "id": "YwJJQvMNj1Yd"
      },
      "execution_count": null,
      "outputs": []
    }
  ]
}